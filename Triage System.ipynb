{
 "cells": [
  {
   "cell_type": "code",
   "execution_count": null,
   "id": "51929156",
   "metadata": {},
   "outputs": [],
   "source": [
    "import numpy as np\n",
    "import pandas as pd\n",
    "import matplotlib.pyplot as plt\n",
    "import seaborn as sns"
   ]
  },
  {
   "attachments": {},
   "cell_type": "markdown",
   "id": "2860b4c0",
   "metadata": {},
   "source": [
    "Variables:\n",
    "    \n",
    "- Sex: Sex of the patient\n",
    "- Age: Age of the patient\n",
    "- Arrival mode: Type of transportation to the hospital\n",
    "- Injury: Whether the patient is injured or not\n",
    "- Chief_complain: The patient's complaint\n",
    "- Mental: The mental state of the patient\n",
    "- Pain: Whether the patient has pain\n",
    "- NRS_pain: Nurse's assessment of pain for the patient. Zero represents usually no pain whereas upper limit represents worst pain\n",
    "- SBP: Systolic Blood Pressure.\n",
    "- DBP: Diastolic Blood Pressure.\n",
    "- Saturation: Oxygen Saturation refers to percentage of oxygen in patient's blood.\n",
    "- HR: Heat Rate.\n",
    "- RR: Respiratory rate\n",
    "- BT: Body Temperature\n",
    "\n",
    "The technical document in the project of the data set has been reached. It was seen in this document that some numerical data were actually categorical. These values are as follows.\n",
    "\n",
    "Reason Visit : Injury [1 = No, 2= Yes]\n",
    "\n",
    "Gender : Sex [1 = Famale, 2 = Male]\n",
    "\n",
    "Pain : Pain [1 = Yes, 0 = No]\n",
    "\n",
    "Menatal : Mental [1 = Alert, 2 = Verbol Response, 3 = Pain Response, 4 = Unresponse]\n",
    "\n",
    "Type of ED : Group [1 = Local ED 3th Degree, 2 = Regional ED 4tg Degree]\n",
    "\n",
    "Mode of Arrival : Arrival Mode [1 = Walking, 2 = Public Ambulance, 3 = Private Vehicle, 4 = Private Ambulance, 5,6,7 = Other]\n",
    "\n",
    "Disposition : Disposition [1 = Dischange, 2 = Admission to ward, 3 = Admission to ICU, 4 = Disharge, 5 = Transfer, 6 = Death, 7 = Surgery]\n",
    "\n",
    "KTAS : KTAS… [1,2,3 = Emergency, 4,5 = Non-Emergency]\n",
    "\n",
    "Triage_level : Triage_level [0-Immediate, 1-Urgent, 2-Non-urgent]"
   ]
  },
  {
   "cell_type": "code",
   "execution_count": null,
   "id": "65d54826",
   "metadata": {},
   "outputs": [],
   "source": [
    "df = pd.read_excel('data_1.xlsx')\n",
    "df.head()"
   ]
  },
  {
   "cell_type": "code",
   "execution_count": null,
   "id": "25581a9b",
   "metadata": {},
   "outputs": [],
   "source": [
    "df.shape"
   ]
  },
  {
   "cell_type": "code",
   "execution_count": null,
   "id": "43762773",
   "metadata": {},
   "outputs": [],
   "source": [
    "df.columns"
   ]
  },
  {
   "cell_type": "code",
   "execution_count": null,
   "id": "2d6a1e61",
   "metadata": {},
   "outputs": [],
   "source": [
    "df.info()"
   ]
  },
  {
   "cell_type": "code",
   "execution_count": null,
   "id": "12ef952c",
   "metadata": {},
   "outputs": [],
   "source": [
    "df.describe().transpose()"
   ]
  },
  {
   "attachments": {},
   "cell_type": "markdown",
   "id": "a5392560",
   "metadata": {},
   "source": [
    "# Missing Value Analysis"
   ]
  },
  {
   "cell_type": "code",
   "execution_count": null,
   "id": "5fee7296",
   "metadata": {},
   "outputs": [],
   "source": [
    "df.isnull().sum().any()"
   ]
  },
  {
   "cell_type": "code",
   "execution_count": null,
   "id": "7139613d",
   "metadata": {},
   "outputs": [],
   "source": [
    "df.isnull().sum()"
   ]
  },
  {
   "cell_type": "code",
   "execution_count": null,
   "id": "1a43cb40",
   "metadata": {},
   "outputs": [],
   "source": [
    "import missingno as msno\n",
    "msno.bar(df, color='dodgerblue')"
   ]
  },
  {
   "cell_type": "code",
   "execution_count": null,
   "id": "8a788790",
   "metadata": {},
   "outputs": [],
   "source": [
    "df['Saturation'].value_counts()"
   ]
  },
  {
   "cell_type": "code",
   "execution_count": null,
   "id": "ab44efba",
   "metadata": {},
   "outputs": [],
   "source": [
    "df[\"Saturation\"] = df.groupby([\"triage_level\", \"KTAS_expert\"])[\"Saturation\"].transform(lambda x: x.fillna(x.mode()[0]))"
   ]
  },
  {
   "cell_type": "code",
   "execution_count": null,
   "id": "6ce05709",
   "metadata": {},
   "outputs": [],
   "source": [
    "df[\"Diagnosis in ED\"] = df.groupby([\"triage_level\", \"KTAS_expert\"])[\"Diagnosis in ED\"].transform(lambda x: x.fillna(x.mode()[0]))"
   ]
  },
  {
   "cell_type": "code",
   "execution_count": null,
   "id": "f799e0f3",
   "metadata": {},
   "outputs": [],
   "source": [
    "df.isnull().sum()"
   ]
  },
  {
   "cell_type": "code",
   "execution_count": null,
   "id": "85cd84b7",
   "metadata": {},
   "outputs": [],
   "source": [
    "sat_mode = df['Saturation'].mode()"
   ]
  },
  {
   "cell_type": "code",
   "execution_count": null,
   "id": "72b8c14f",
   "metadata": {},
   "outputs": [],
   "source": [
    "sat_mode"
   ]
  },
  {
   "cell_type": "code",
   "execution_count": null,
   "id": "33262cbf",
   "metadata": {},
   "outputs": [],
   "source": [
    "msno.bar(df, color=\"dodgerblue\")"
   ]
  },
  {
   "attachments": {},
   "cell_type": "markdown",
   "id": "3429a46a",
   "metadata": {},
   "source": [
    "# Feature Engineering"
   ]
  },
  {
   "cell_type": "code",
   "execution_count": null,
   "id": "63ba46cc",
   "metadata": {},
   "outputs": [],
   "source": [
    "injury_cateogry = ['No','Yes']\n",
    "sex_cateogry = ['Female','Male']\n",
    "pain_cateogry = ['No','Yes']\n",
    "mental_cateogry = ['Alert','Verbose Response','Pain Response','Unresponsive']\n",
    "group_category = ['Local ED (3th Degree)', 'Regional ED (4th Degree)']\n",
    "arrival_mode_category = ['Walking','Public Ambulance', 'Private Vehicle','Private Ambulance', 'Other','Other','Other']\n",
    "disposition_category = ['Discharge', 'Admission to Ward', 'Admission to ICU', 'Discharge', 'Transfer', 'Death', 'Surgery']\n",
    "KTAS_category = ['Emergency','Emergency','Emergency', 'Non-Emergency', 'Non-Emergency']\n",
    "mistriage_category = ['Immediate','Urgent','Non-urgent']"
   ]
  },
  {
   "cell_type": "code",
   "execution_count": null,
   "id": "1e2f9fd7",
   "metadata": {},
   "outputs": [],
   "source": [
    "df['KTAS duration_min'].value_counts()"
   ]
  },
  {
   "cell_type": "code",
   "execution_count": null,
   "id": "95ca486a",
   "metadata": {},
   "outputs": [],
   "source": [
    "df['KTAS duration_min'] = df['KTAS duration_min'].apply(lambda x: int(float(x.replace(',', '.'))))"
   ]
  },
  {
   "cell_type": "code",
   "execution_count": null,
   "id": "012e9141",
   "metadata": {},
   "outputs": [],
   "source": [
    "df['KTAS duration_min'].value_counts()"
   ]
  },
  {
   "cell_type": "code",
   "execution_count": null,
   "id": "baaacf7e",
   "metadata": {},
   "outputs": [],
   "source": [
    "df['HR']"
   ]
  },
  {
   "cell_type": "code",
   "execution_count": null,
   "id": "945f4eda",
   "metadata": {},
   "outputs": [],
   "source": [
    "df.loc[df[\"Sex\"] == 1, \"Sex\"] = sex_cateogry[0]\n",
    "df.loc[df[\"Sex\"] == 2, \"Sex\"] = sex_cateogry[1]"
   ]
  },
  {
   "cell_type": "code",
   "execution_count": null,
   "id": "a9b5a626",
   "metadata": {},
   "outputs": [],
   "source": [
    "df['Sex'].unique()"
   ]
  },
  {
   "cell_type": "code",
   "execution_count": null,
   "id": "842b92cf",
   "metadata": {},
   "outputs": [],
   "source": [
    "df.loc[df[\"Injury\"] == 1, \"Injury\"] = injury_cateogry[0]\n",
    "df.loc[df[\"Injury\"] == 2, \"Injury\"] = injury_cateogry[1]"
   ]
  },
  {
   "cell_type": "code",
   "execution_count": null,
   "id": "9f624aa1",
   "metadata": {},
   "outputs": [],
   "source": [
    "df['Injury'].unique()"
   ]
  },
  {
   "cell_type": "code",
   "execution_count": null,
   "id": "6e6f38b7",
   "metadata": {},
   "outputs": [],
   "source": [
    "df.loc[df[\"Group\"] == 1, \"Group\"] = group_category[0]\n",
    "df.loc[df[\"Group\"] == 2, \"Group\"] = group_category[1]"
   ]
  },
  {
   "cell_type": "code",
   "execution_count": null,
   "id": "1b921f5a",
   "metadata": {},
   "outputs": [],
   "source": [
    "df.loc[df[\"Pain\"] == 0, \"Pain\"] = pain_cateogry[0]\n",
    "df.loc[df[\"Pain\"] == 1, \"Pain\"] = pain_cateogry[1]"
   ]
  },
  {
   "cell_type": "code",
   "execution_count": null,
   "id": "934e27b6",
   "metadata": {},
   "outputs": [],
   "source": [
    "df['Pain'].unique()"
   ]
  },
  {
   "cell_type": "code",
   "execution_count": null,
   "id": "d9920b67",
   "metadata": {},
   "outputs": [],
   "source": [
    "df.loc[df[\"Mental\"] == 1, \"Mental\"] = mental_cateogry[0]\n",
    "df.loc[df[\"Mental\"] == 2, \"Mental\"] = mental_cateogry[1]\n",
    "df.loc[df[\"Mental\"] == 3, \"Mental\"] = mental_cateogry[2]\n",
    "df.loc[df[\"Mental\"] == 4, \"Mental\"] = mental_cateogry[3]"
   ]
  },
  {
   "cell_type": "code",
   "execution_count": null,
   "id": "096ed5ba",
   "metadata": {},
   "outputs": [],
   "source": [
    "df['Mental'].unique()"
   ]
  },
  {
   "cell_type": "code",
   "execution_count": null,
   "id": "03459000",
   "metadata": {},
   "outputs": [],
   "source": [
    "df.loc[df[\"Arrival mode\"] == 1, \"Arrival mode\"] = arrival_mode_category[0]\n",
    "df.loc[df[\"Arrival mode\"] == 2, \"Arrival mode\"] = arrival_mode_category[1]\n",
    "df.loc[df[\"Arrival mode\"] == 3, \"Arrival mode\"] = arrival_mode_category[2]\n",
    "df.loc[df[\"Arrival mode\"] == 4, \"Arrival mode\"] = arrival_mode_category[3]\n",
    "df.loc[df[\"Arrival mode\"] == 5, \"Arrival mode\"] = arrival_mode_category[4]\n",
    "df.loc[df[\"Arrival mode\"] == 6, \"Arrival mode\"] = arrival_mode_category[5]\n",
    "df.loc[df[\"Arrival mode\"] == 7, \"Arrival mode\"] = arrival_mode_category[6]"
   ]
  },
  {
   "cell_type": "code",
   "execution_count": null,
   "id": "6629d57e",
   "metadata": {},
   "outputs": [],
   "source": [
    "df['Arrival mode'].unique()"
   ]
  },
  {
   "cell_type": "code",
   "execution_count": null,
   "id": "e7620a2c",
   "metadata": {},
   "outputs": [],
   "source": [
    "df.loc[df[\"Disposition\"] == 1, \"Disposition\"] = disposition_category[0]\n",
    "df.loc[df[\"Disposition\"] == 2, \"Disposition\"] = disposition_category[1]\n",
    "df.loc[df[\"Disposition\"] == 3, \"Disposition\"] = disposition_category[2]\n",
    "df.loc[df[\"Disposition\"] == 4, \"Disposition\"] = disposition_category[3]\n",
    "df.loc[df[\"Disposition\"] == 5, \"Disposition\"] = disposition_category[4]\n",
    "df.loc[df[\"Disposition\"] == 6, \"Disposition\"] = disposition_category[5]\n",
    "df.loc[df[\"Disposition\"] == 7, \"Disposition\"] = disposition_category[6]"
   ]
  },
  {
   "cell_type": "code",
   "execution_count": null,
   "id": "afab188b",
   "metadata": {},
   "outputs": [],
   "source": [
    "df['Disposition'].unique()"
   ]
  },
  {
   "cell_type": "code",
   "execution_count": null,
   "id": "2bd5367a",
   "metadata": {},
   "outputs": [],
   "source": [
    "df.loc[df[\"KTAS_RN\"] == 1, \"KTAS_RN\"] = KTAS_category[0]\n",
    "df.loc[df[\"KTAS_RN\"] == 2, \"KTAS_RN\"] = KTAS_category[1]\n",
    "df.loc[df[\"KTAS_RN\"] == 3, \"KTAS_RN\"] = KTAS_category[2]\n",
    "df.loc[df[\"KTAS_RN\"] == 4, \"KTAS_RN\"] = KTAS_category[3]\n",
    "df.loc[df[\"KTAS_RN\"] == 5, \"KTAS_RN\"] = KTAS_category[4]"
   ]
  },
  {
   "cell_type": "code",
   "execution_count": null,
   "id": "5be8f734",
   "metadata": {},
   "outputs": [],
   "source": [
    "df['KTAS_RN'].unique()"
   ]
  },
  {
   "cell_type": "code",
   "execution_count": null,
   "id": "61846dd1",
   "metadata": {},
   "outputs": [],
   "source": [
    "df.loc[df[\"KTAS_expert\"] == 1, \"KTAS_expert\"] = KTAS_category[0]\n",
    "df.loc[df[\"KTAS_expert\"] == 2, \"KTAS_expert\"] = KTAS_category[1]\n",
    "df.loc[df[\"KTAS_expert\"] == 3, \"KTAS_expert\"] = KTAS_category[2]\n",
    "df.loc[df[\"KTAS_expert\"] == 4, \"KTAS_expert\"] = KTAS_category[3]\n",
    "df.loc[df[\"KTAS_expert\"] == 5, \"KTAS_expert\"] = KTAS_category[4]"
   ]
  },
  {
   "cell_type": "code",
   "execution_count": null,
   "id": "06609830",
   "metadata": {},
   "outputs": [],
   "source": [
    "df['KTAS_expert'].unique()"
   ]
  },
  {
   "cell_type": "code",
   "execution_count": null,
   "id": "1d1848ee",
   "metadata": {},
   "outputs": [],
   "source": [
    "df.loc[df[\"triage_level\"] == 0, \"triage_level\"] = mistriage_category[0]\n",
    "df.loc[df[\"triage_level\"] == 1, \"triage_level\"] = mistriage_category[1]\n",
    "df.loc[df[\"triage_level\"] == 2, \"triage_level\"] = mistriage_category[2]"
   ]
  },
  {
   "cell_type": "code",
   "execution_count": null,
   "id": "f714dbed",
   "metadata": {},
   "outputs": [],
   "source": [
    "df['triage_level'].unique()"
   ]
  },
  {
   "cell_type": "code",
   "execution_count": null,
   "id": "b4115ac6",
   "metadata": {},
   "outputs": [],
   "source": [
    "df[[\"SBP\",\"DBP\",\"HR\",\"RR\",\"BT\",\"Saturation\"]] = df[[\"SBP\",\"DBP\",\"HR\",\"RR\",\"BT\",\"Saturation\"]].replace(\"??\",0).astype(str).astype(float)\n",
    "df['SBP'] = df['SBP'].replace(0,df['SBP'].mode()[0])\n",
    "df['DBP'] = df['DBP'].replace(0,df['DBP'].mode()[0])"
   ]
  },
  {
   "cell_type": "code",
   "execution_count": null,
   "id": "3a8054fb",
   "metadata": {},
   "outputs": [],
   "source": [
    "df['HR']"
   ]
  },
  {
   "cell_type": "code",
   "execution_count": null,
   "id": "3d402209",
   "metadata": {},
   "outputs": [],
   "source": [
    "interval = (0, 25, 45, 60, 100)\n",
    "categories = ['Young', 'Adult', 'Mid_Age', 'Old']\n",
    "df[\"New_Age\"] = pd.cut(df.Age, interval, labels=categories)"
   ]
  },
  {
   "cell_type": "code",
   "execution_count": null,
   "id": "e0388d05",
   "metadata": {},
   "outputs": [],
   "source": [
    "df.loc[df['SBP'] < 80, 'New_SBP'] = 'Low'\n",
    "df.loc[(df[\"SBP\"] >= 80) & (df[\"SBP\"] <= 120), 'New_SBP'] = 'Normal'\n",
    "df.loc[df['SBP'] > 120, 'New_SBP'] = 'High'"
   ]
  },
  {
   "cell_type": "code",
   "execution_count": null,
   "id": "10aa06ba",
   "metadata": {},
   "outputs": [],
   "source": [
    "df.loc[df['DBP'] < 60, 'New_DBP'] = 'Low'\n",
    "df.loc[(df[\"DBP\"] >= 60) & (df[\"DBP\"] <= 80), 'New_DBP'] = 'Normal'\n",
    "df.loc[df['DBP'] > 80, 'New_DBP'] = 'High'"
   ]
  },
  {
   "cell_type": "code",
   "execution_count": null,
   "id": "fd813f20",
   "metadata": {},
   "outputs": [],
   "source": [
    "df.loc[df['HR'] < 45, 'New_HR'] = 'Low'\n",
    "df.loc[(df[\"HR\"] >= 45) & (df[\"HR\"] <= 100), 'New_HR'] = 'Normal'\n",
    "df.loc[df['HR'] > 100, 'New_HR'] = 'High'"
   ]
  },
  {
   "cell_type": "code",
   "execution_count": null,
   "id": "1ca3a986",
   "metadata": {},
   "outputs": [],
   "source": [
    "df.loc[df['RR'] < 12, 'New_RR'] = 'Low'\n",
    "df.loc[(df[\"RR\"] >= 12) & (df[\"RR\"] <= 25), 'New_RR'] = 'Normal'\n",
    "df.loc[df['RR'] > 25, 'New_RR'] = 'High'"
   ]
  },
  {
   "cell_type": "code",
   "execution_count": null,
   "id": "d6063b87",
   "metadata": {},
   "outputs": [],
   "source": [
    "df.loc[df['BT'] < 36.4, 'New_BT'] = 'Low'\n",
    "df.loc[(df['BT'] >= 36.4) & (df['BT'] <= 37.6), 'New_BT'] = 'Normal'\n",
    "df.loc[df['BT'] > 37.6, 'New_BT'] = 'High'"
   ]
  },
  {
   "cell_type": "code",
   "execution_count": null,
   "id": "ca3064a2",
   "metadata": {},
   "outputs": [],
   "source": [
    "df.loc[df['NRS_pain'] < 3, 'New_NRS_pain'] = 'Low Pain'\n",
    "df.loc[(df[\"NRS_pain\"] >= 3) & (df[\"NRS_pain\"] <= 7), 'New_NRS_pain'] = 'Pain'\n",
    "df.loc[df['NRS_pain'] > 7, 'New_NRS_pain'] = 'High Pain'"
   ]
  },
  {
   "cell_type": "code",
   "execution_count": null,
   "id": "9f7c75b2",
   "metadata": {},
   "outputs": [],
   "source": [
    "df.loc[df['KTAS duration_min'] < 10, 'New_KTAS_duration_min'] = 'Immediate'\n",
    "df.loc[(df[\"KTAS duration_min\"] >= 10) & (df[\"KTAS duration_min\"] <= 60), 'New_KTAS_duration_min'] = 'Very Urgent'\n",
    "df.loc[(df[\"KTAS duration_min\"] >= 61) & (df[\"KTAS duration_min\"] <= 120), 'New_KTAS_duration_min'] = 'Urgent'\n",
    "df.loc[(df[\"KTAS duration_min\"] >= 121) & (df[\"KTAS duration_min\"] <= 240), 'New_KTAS_duration_min'] = 'Standard'\n",
    "df.loc[df['KTAS duration_min'] > 240, 'New_KTAS_duration_min'] = 'Non-Urgent'"
   ]
  },
  {
   "cell_type": "code",
   "execution_count": null,
   "id": "261bcb18",
   "metadata": {},
   "outputs": [],
   "source": [
    "df.loc[df['Length of stay_min'] < 10, 'New_Length_of_stay_min'] = 'Immediate'\n",
    "df.loc[(df[\"Length of stay_min\"] >= 10) & (df[\"Length of stay_min\"] <= 60), 'New_Length_of_stay_min'] = 'Very Urgent'\n",
    "df.loc[(df[\"Length of stay_min\"] >= 61) & (df[\"Length of stay_min\"] <= 120), 'New_Length_of_stay_min'] = 'Urgent'\n",
    "df.loc[(df[\"Length of stay_min\"] >= 121) & (df[\"Length of stay_min\"] <= 240), 'New_Length_of_stay_min'] = 'Standard'\n",
    "df.loc[df['Length of stay_min'] > 240, 'New_Length_of_stay_min'] = 'Non-Urgent'"
   ]
  },
  {
   "cell_type": "code",
   "execution_count": null,
   "id": "b1f5150c",
   "metadata": {},
   "outputs": [],
   "source": [
    "df.head()"
   ]
  },
  {
   "attachments": {},
   "cell_type": "markdown",
   "id": "07690250",
   "metadata": {},
   "source": [
    "# Data Visualization"
   ]
  },
  {
   "cell_type": "code",
   "execution_count": null,
   "id": "c8e7bbe6",
   "metadata": {},
   "outputs": [],
   "source": [
    "# fig, ax = plt.subplots(6,2, figsize=(15,25))\n",
    "# sns.histplot(df['Age'], bins = 20, ax=ax[0,0]) \n",
    "# sns.histplot(df['Patients number per hour'], bins = 20, ax=ax[0,1]) \n",
    "# sns.histplot(df['SBP'], bins = 20, ax=ax[1,0]) \n",
    "# sns.histplot(df['DBP'], bins = 20, ax=ax[1,1]) \n",
    "# sns.histplot(df['HR'], bins = 20, ax=ax[2,0])\n",
    "# sns.histplot(df['RR'], bins = 20, ax=ax[2,1])\n",
    "# sns.histplot(df['BT'], bins = 20, ax=ax[3,0]) \n",
    "# sns.histplot(df['Saturation'], bins = 20, ax=ax[3,1]) \n",
    "# sns.histplot(df['Error_group'], bins = 20, ax=ax[4,0])\n",
    "# sns.histplot(df['Length of stay_min'], bins = 20, ax=ax[4,1]) \n",
    "# sns.histplot(df['KTAS duration_min'], bins = 20, ax=ax[5,0])"
   ]
  },
  {
   "cell_type": "code",
   "execution_count": null,
   "id": "b1c326ef",
   "metadata": {},
   "outputs": [],
   "source": [
    "fig, ax = plt.subplots(10,2, figsize=(15,35))\n",
    "df[\"Age\"].hist(edgecolor = \"black\", ax=ax[0,0]);\n",
    "sns.countplot(x='Sex',data=df, ax=ax[0,1]);\n",
    "sns.countplot(x='Arrival mode',data=df, ax=ax[1,0]);\n",
    "sns.countplot(x='Injury',data=df, ax=ax[1,1]);\n",
    "sns.countplot(x='Mental',data=df, ax=ax[2,0]);\n",
    "sns.countplot(x='Pain',data=df, ax=ax[2,1]);\n",
    "sns.countplot(x='KTAS_RN',data=df, ax=ax[3,0]);\n",
    "sns.countplot(x='Disposition',data=df, ax=ax[3,1]);\n",
    "sns.countplot(x='KTAS_expert',data=df, ax=ax[4,0]);\n",
    "sns.countplot(x='Error_group',data=df, ax=ax[4,1]);\n",
    "sns.countplot(x='New_Age',data=df, ax=ax[5,0]);\n",
    "sns.countplot(x='New_SBP',data=df, ax=ax[5,1]);\n",
    "sns.countplot(x='New_DBP',data=df, ax=ax[6,0]);\n",
    "sns.countplot(x='New_HR',data=df, ax=ax[6,1]);\n",
    "sns.countplot(x='New_RR',data=df, ax=ax[7,0]);\n",
    "sns.countplot(x='New_BT',data=df, ax=ax[7,1]);\n",
    "sns.countplot(x='New_NRS_pain',data=df, ax=ax[8,0]);\n",
    "sns.countplot(x='New_KTAS_duration_min',data=df, ax=ax[8,1]);\n",
    "sns.countplot(x='New_Length_of_stay_min',data=df, ax=ax[9,0]);\n",
    "sns.countplot(x='Group',data=df, ax=ax[9,1]);"
   ]
  },
  {
   "cell_type": "code",
   "execution_count": null,
   "id": "7618df7f",
   "metadata": {},
   "outputs": [],
   "source": [
    "fig, ax = plt.subplots(4,2, figsize=(15,20))\n",
    "sns.boxplot(x=df[\"Age\"], ax=ax[0,0]);\n",
    "sns.boxplot(x=df[\"SBP\"], ax=ax[0,1]);\n",
    "sns.boxplot(x=df[\"DBP\"], ax=ax[1,0]);\n",
    "sns.boxplot(x=df[\"HR\"], ax=ax[1,1]);\n",
    "sns.boxplot(x=df[\"RR\"], ax=ax[2,0]);\n",
    "sns.boxplot(x=df[\"BT\"], ax=ax[2,1]);\n",
    "sns.boxplot(x=df[\"Length of stay_min\"], ax=ax[3,0]);\n",
    "sns.boxplot(x=df[\"KTAS duration_min\"], ax=ax[3,1]);"
   ]
  },
  {
   "cell_type": "code",
   "execution_count": null,
   "id": "57173ef3",
   "metadata": {},
   "outputs": [],
   "source": [
    "# plt.figure(figsize=(18,12), dpi=200)\n",
    "# sns.heatmap(df.corr(), annot=True)"
   ]
  },
  {
   "cell_type": "code",
   "execution_count": null,
   "id": "55aac6a4",
   "metadata": {},
   "outputs": [],
   "source": [
    "df['HR'].value_counts()"
   ]
  },
  {
   "cell_type": "code",
   "execution_count": null,
   "id": "d597963c",
   "metadata": {},
   "outputs": [],
   "source": [
    "df.head()"
   ]
  },
  {
   "cell_type": "code",
   "execution_count": null,
   "id": "9b5378a5",
   "metadata": {},
   "outputs": [],
   "source": [
    "df.columns"
   ]
  },
  {
   "cell_type": "code",
   "execution_count": null,
   "id": "2ae1a406",
   "metadata": {},
   "outputs": [],
   "source": [
    "new_df = df[[\"Injury\", \"Saturation\",\n",
    "\"triage_level\", \"New_Age\", \"New_SBP\", \"New_DBP\", \"New_HR\",\n",
    "\"New_RR\", \"New_BT\"]]"
   ]
  },
  {
   "cell_type": "code",
   "execution_count": null,
   "id": "ecfc8e29",
   "metadata": {},
   "outputs": [],
   "source": [
    "# new_df.head()"
   ]
  },
  {
   "cell_type": "code",
   "execution_count": null,
   "id": "54ec1adb",
   "metadata": {},
   "outputs": [],
   "source": [
    "new_df.info()"
   ]
  },
  {
   "cell_type": "code",
   "execution_count": null,
   "id": "d39fab5d",
   "metadata": {},
   "outputs": [],
   "source": [
    "new_df.columns"
   ]
  },
  {
   "attachments": {},
   "cell_type": "markdown",
   "id": "9451ec4e",
   "metadata": {},
   "source": [
    "# One-Hot encoding using pandas"
   ]
  },
  {
   "cell_type": "code",
   "execution_count": null,
   "id": "41b062fe",
   "metadata": {},
   "outputs": [],
   "source": [
    "new_df = pd.get_dummies(new_df, columns=['New_Age', 'New_SBP', 'New_DBP', 'New_HR', 'New_RR', 'New_BT'], drop_first=True)"
   ]
  },
  {
   "cell_type": "code",
   "execution_count": null,
   "id": "a65aff70",
   "metadata": {},
   "outputs": [],
   "source": [
    "new_df"
   ]
  },
  {
   "cell_type": "code",
   "execution_count": null,
   "id": "83c7be62",
   "metadata": {},
   "outputs": [],
   "source": [
    "new_df.info()"
   ]
  },
  {
   "cell_type": "code",
   "execution_count": null,
   "id": "f41ddebc",
   "metadata": {},
   "outputs": [],
   "source": [
    "new_df['triage_level'] = new_df['triage_level'].replace(['Immediate'], 0)\n",
    "new_df['triage_level'] = new_df['triage_level'].replace(['Urgent'], 1)\n",
    "new_df['triage_level'] = new_df['triage_level'].replace(['Non-urgent'], 2)\n",
    "\n",
    "new_df['Injury'] = new_df['Injury'].replace(['Yes'], 1)\n",
    "new_df['Injury'] = new_df['Injury'].replace(['No'], 0)"
   ]
  },
  {
   "cell_type": "code",
   "execution_count": null,
   "id": "fe21bbd4",
   "metadata": {},
   "outputs": [],
   "source": [
    "new_df"
   ]
  },
  {
   "cell_type": "code",
   "execution_count": null,
   "id": "1fd00dd7",
   "metadata": {},
   "outputs": [],
   "source": [
    "X = new_df.drop('triage_level', axis=1)\n",
    "y = new_df['triage_level']"
   ]
  },
  {
   "cell_type": "code",
   "execution_count": null,
   "id": "7e0aa62a",
   "metadata": {},
   "outputs": [],
   "source": [
    "from sklearn.model_selection import train_test_split\n",
    "X_train, X_test, y_train, y_test = train_test_split(X, y, test_size=0.20, random_state = 101)"
   ]
  },
  {
   "cell_type": "code",
   "execution_count": null,
   "id": "8255866c",
   "metadata": {},
   "outputs": [],
   "source": [
    "from sklearn.preprocessing import StandardScaler\n",
    "scaler = StandardScaler()\n",
    "scaled_X_train = scaler.fit_transform(X_train)\n",
    "scaled_X_test = scaler.transform(X_test)"
   ]
  },
  {
   "attachments": {},
   "cell_type": "markdown",
   "id": "afc89679",
   "metadata": {},
   "source": [
    "## SVC"
   ]
  },
  {
   "cell_type": "code",
   "execution_count": null,
   "id": "3a03860a",
   "metadata": {},
   "outputs": [],
   "source": [
    "from sklearn.svm import SVC\n",
    "svc_model = SVC()\n",
    "svc_model.fit(X_train, y_train)\n",
    "svc_test_pred = svc_model.predict(X_test)\n",
    "svc_train_pred = svc_model.predict(X_train)"
   ]
  },
  {
   "cell_type": "code",
   "execution_count": null,
   "id": "8f4806d8",
   "metadata": {},
   "outputs": [],
   "source": [
    "from sklearn.metrics import accuracy_score"
   ]
  },
  {
   "cell_type": "code",
   "execution_count": null,
   "id": "34e90835",
   "metadata": {},
   "outputs": [],
   "source": [
    "print(f\"Training data Accuracy : {round(accuracy_score(y_train, svc_train_pred) * 100, 2)} %\")"
   ]
  },
  {
   "cell_type": "code",
   "execution_count": null,
   "id": "8deb025a",
   "metadata": {},
   "outputs": [],
   "source": [
    "print(f\"Testing data Accuracy : {round(accuracy_score(y_test, svc_test_pred) * 100, 2)} %\")"
   ]
  },
  {
   "cell_type": "code",
   "execution_count": null,
   "id": "b5aa2df3",
   "metadata": {},
   "outputs": [],
   "source": [
    "import pickle\n",
    "with open('model_pickle','wb') as f:\n",
    "    pickle.dump(svc_model,f)"
   ]
  },
  {
   "cell_type": "code",
   "execution_count": null,
   "id": "67fb9cdf",
   "metadata": {},
   "outputs": [],
   "source": []
  },
  {
   "attachments": {},
   "cell_type": "markdown",
   "id": "9b414b06",
   "metadata": {},
   "source": [
    "# Hospital Allotment"
   ]
  },
  {
   "cell_type": "code",
   "execution_count": null,
   "id": "3addedfd",
   "metadata": {},
   "outputs": [],
   "source": [
    "new_df.columns"
   ]
  },
  {
   "cell_type": "code",
   "execution_count": null,
   "id": "5640292b",
   "metadata": {},
   "outputs": [],
   "source": [
    "new_df = new_df.reset_index()\n",
    "new_df = new_df.rename(columns={'index': 'patient_id'})"
   ]
  },
  {
   "cell_type": "code",
   "execution_count": null,
   "id": "b03592d7",
   "metadata": {},
   "outputs": [],
   "source": [
    "new_df"
   ]
  },
  {
   "cell_type": "code",
   "execution_count": null,
   "id": "45eb6055",
   "metadata": {},
   "outputs": [],
   "source": [
    "sorted_df = new_df.sort_values(by='triage_level', ascending=True)"
   ]
  },
  {
   "cell_type": "code",
   "execution_count": null,
   "id": "a90b6063",
   "metadata": {},
   "outputs": [],
   "source": [
    "sorted_df"
   ]
  },
  {
   "cell_type": "code",
   "execution_count": null,
   "id": "b1a32608",
   "metadata": {},
   "outputs": [],
   "source": [
    "sorted_df = sorted_df.reset_index()\n",
    "sorted_df.drop(['index'], axis=1, inplace=True)"
   ]
  },
  {
   "cell_type": "code",
   "execution_count": null,
   "id": "c3463c7c",
   "metadata": {},
   "outputs": [],
   "source": [
    "sorted_df"
   ]
  },
  {
   "cell_type": "code",
   "execution_count": null,
   "id": "52bcedce",
   "metadata": {},
   "outputs": [],
   "source": [
    "sorted_df['triage_level'].value_counts()"
   ]
  },
  {
   "cell_type": "code",
   "execution_count": null,
   "id": "51deedc4",
   "metadata": {},
   "outputs": [],
   "source": [
    "hospitals = {\n",
    "    'City Hospital': { 'ICU': 10, 'Emergency_ward': 25, 'General_ward': 70},\n",
    "    'Nulife Hospital': {'ICU': 7, 'Emergency_ward': 24, 'General_ward': 40},\n",
    "    'Apex Hospital': {'ICU': 6, 'Emergency_ward': 20, 'General_ward': 30},\n",
    "    'Jupiter Hospital': {'ICU':7 , 'Emergency_ward': 15, 'General_ward': 20},\n",
    "    'KEM Hospital': {'ICU': 3, 'Emergency_ward': 12, 'General_ward': 22},\n",
    "    'Parth Hospital': {'ICU': 15, 'Emergency_ward': 30, 'General_ward': 45},\n",
    "    'NavJeevan Life Care Hospital': {'ICU': 10, 'Emergency_ward': 18, 'General_ward': 37},\n",
    "    'Fortis Hospital': {'ICU': 26, 'Emergency_ward': 40, 'General_ward': 55},\n",
    "    'Criticare Hospital': {'ICU': 20, 'Emergency_ward': 30, 'General_ward': 50},\n",
    "    'Global Hospital': {'ICU': 9, 'Emergency_ward': 20, 'General_ward': 10},\n",
    "    'Kokilaben Hospital': {'ICU': 5, 'Emergency_ward': 20, 'General_ward': 40},\n",
    "    'Hinduja Hospital': {'ICU': 12, 'Emergency_ward': 25, 'General_ward': 45}\n",
    "}"
   ]
  },
  {
   "cell_type": "code",
   "execution_count": null,
   "id": "e9cd1637",
   "metadata": {},
   "outputs": [],
   "source": [
    "my_dict = sorted_df.to_dict()\n",
    "my_dict"
   ]
  },
  {
   "cell_type": "code",
   "execution_count": null,
   "id": "2c96c7ab",
   "metadata": {},
   "outputs": [],
   "source": [
    "for patient in sorted_df:\n",
    "    assigned = False\n",
    "    for index, patient in sorted_df.iterrows():\n",
    "        for hospital_name, hospital_data in hospitals.items():\n",
    "            if patient['triage_level'] == 0 and hospital_data['ICU'] > 0:\n",
    "                assigned = True\n",
    "                hospital_data['ICU'] -= 1\n",
    "                print(f\"Patient with id {int(patient['patient_id'])} assigned to {hospital_name}\")\n",
    "                break\n",
    "            elif patient['triage_level'] == 1 and hospital_data['Emergency_ward'] > 0:\n",
    "                assigned = True\n",
    "                hospital_data['Emergency_ward'] -= 1\n",
    "                print(f\"Patient with id {int(patient['patient_id'])} assigned to {hospital_name}\")\n",
    "                break\n",
    "            elif patient['triage_level'] == 2 and hospital_data['General_ward'] > 0:\n",
    "                assigned = True\n",
    "                hospital_data['General_ward'] -= 1\n",
    "                print(f\"Patient with id {int(patient['patient_id'])} assigned to {hospital_name}\")\n",
    "                break\n",
    "        if assigned == False:\n",
    "            print(f\"No available beds for patient {int(patient['patient_id'])}\")\n",
    "            \n"
   ]
  },
  {
   "cell_type": "code",
   "execution_count": null,
   "id": "fc857bf5",
   "metadata": {},
   "outputs": [],
   "source": []
  },
  {
   "cell_type": "code",
   "execution_count": null,
   "id": "be6dbecd",
   "metadata": {},
   "outputs": [],
   "source": []
  },
  {
   "cell_type": "code",
   "execution_count": null,
   "id": "1402f87d",
   "metadata": {},
   "outputs": [],
   "source": []
  }
 ],
 "metadata": {
  "kernelspec": {
   "display_name": "Python 3 (ipykernel)",
   "language": "python",
   "name": "python3"
  },
  "language_info": {
   "codemirror_mode": {
    "name": "ipython",
    "version": 3
   },
   "file_extension": ".py",
   "mimetype": "text/x-python",
   "name": "python",
   "nbconvert_exporter": "python",
   "pygments_lexer": "ipython3",
   "version": "3.9.12"
  }
 },
 "nbformat": 4,
 "nbformat_minor": 5
}
